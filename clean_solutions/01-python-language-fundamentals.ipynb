{
 "cells": [
  {
   "cell_type": "markdown",
   "metadata": {
    "collapsed": true
   },
   "source": [
    "The goal of this exercise is to use all the concepts we learned in the warm-up sessions.\n",
    "\n",
    "We have data about Internet companies. The data is organized in a dictionary, each key corresponds to a column in the [spreadsheet](./data/InternetCompanies.csv) \n",
    "\n",
    "- Compute mean market capitalization\n",
    "- Compute mean cash\n",
    "- Compute the cash to revenue ratio with two decimal places in descending order"
   ]
  },
  {
   "cell_type": "code",
   "execution_count": 3,
   "metadata": {
    "collapsed": true
   },
   "outputs": [],
   "source": [
    "data = {\n",
    " 'Company': ['Apple',\n",
    "             'Google/Alphabet',\n",
    "             'Amazon',\n",
    "             'Facebook',\n",
    "             'Tencent',\n",
    "             'Alibaba',\n",
    "             'Priceline Group',\n",
    "             'Uber',\n",
    "             'Baidu',\n",
    "             'Ant Financial',\n",
    "             'Salesforce',\n",
    "             'Xiaomi',\n",
    "             'Paypal',\n",
    "             'Netflix',\n",
    "             'Yahoo',\n",
    "             'JD.com',\n",
    "             'eBay',\n",
    "             'Airbnb',\n",
    "             'Yahoo Japan',\n",
    "             'Didi Kuaidi'],\n",
    " 'Country': ['USA',\n",
    "             'USA',\n",
    "             'USA',\n",
    "             'USA',\n",
    "             'China',\n",
    "             'China',\n",
    "             'USA',\n",
    "             'USA',\n",
    "             'China',\n",
    "             'China',\n",
    "             'USA',\n",
    "             'China',\n",
    "             'USA',\n",
    "             'USA',\n",
    "             'USA',\n",
    "             'China',\n",
    "             'USA',\n",
    "             'USA',\n",
    "             'Japan',\n",
    "             'China'],\n",
    " 'MarketCap': [' $547 ',\n",
    "               ' $510 ',\n",
    "               ' $341 ',\n",
    "               ' $340 ',\n",
    "               ' $206 ',\n",
    "               ' $205 ',\n",
    "               ' $63 ',\n",
    "               ' $63 ',\n",
    "               ' $62 ',\n",
    "               ' $60 ',\n",
    "               ' $57 ',\n",
    "               ' $46 ',\n",
    "               ' $46 ',\n",
    "               ' $44 ',\n",
    "               ' $36 ',\n",
    "               ' $34 ',\n",
    "               ' $28 ',\n",
    "               ' $26 ',\n",
    "               ' $26 ',\n",
    "               ' $25 '],\n",
    " 'Revenue': [' $235 ',\n",
    "             ' $75 ',\n",
    "             ' $107 ',\n",
    "             ' $18 ',\n",
    "             ' $16 ',\n",
    "             ' $15 ',\n",
    "             ' $9 ',\n",
    "             ' $-   ',\n",
    "             ' $10 ',\n",
    "             ' $-   ',\n",
    "             ' $7 ',\n",
    "             ' $-   ',\n",
    "             ' $9 ',\n",
    "             ' $7 ',\n",
    "             ' $5 ',\n",
    "             ' $28 ',\n",
    "             ' $9 ',\n",
    "             ' $-   ',\n",
    "             ' $5 ',\n",
    "             ' $-   '],\n",
    "    'Cash': [' $233 ',\n",
    "              ' $79 ',\n",
    "              ' $16 ',\n",
    "              ' $21 ',\n",
    "              ' $14 ',\n",
    "              ' $18 ',\n",
    "              ' $11 ',\n",
    "              ' $-   ',\n",
    "              ' $11 ',\n",
    "              ' $-   ',\n",
    "              ' $4 ',\n",
    "              ' $-   ',\n",
    "              ' $6 ',\n",
    "              ' $2 ',\n",
    "              ' $10 ',\n",
    "              ' $5 ',\n",
    "              ' $11 ',\n",
    "              ' $-   ',\n",
    "              ' $5 ',\n",
    "              ' $-   ']\n",
    "}"
   ]
  },
  {
   "cell_type": "code",
   "execution_count": 1,
   "metadata": {
    "collapsed": true
   },
   "outputs": [],
   "source": [
    "def parse(number):\n",
    "    s = number.strip().strip(\"$\")\n",
    "    if s==\"-\":\n",
    "        return -1\n",
    "    else:\n",
    "        return float(s)*1000000"
   ]
  },
  {
   "cell_type": "code",
   "execution_count": 9,
   "metadata": {
    "collapsed": true
   },
   "outputs": [],
   "source": [
    "market_cap = list(map(parse, data['MarketCap']))"
   ]
  },
  {
   "cell_type": "code",
   "execution_count": 10,
   "metadata": {},
   "outputs": [
    {
     "data": {
      "text/plain": [
       "138250000.0"
      ]
     },
     "execution_count": 10,
     "metadata": {},
     "output_type": "execute_result"
    }
   ],
   "source": [
    "sum(market_cap) / len(market_cap)"
   ]
  },
  {
   "cell_type": "code",
   "execution_count": 11,
   "metadata": {
    "collapsed": true
   },
   "outputs": [],
   "source": [
    "cash = list(map(parse, data['Cash']))"
   ]
  },
  {
   "cell_type": "code",
   "execution_count": 19,
   "metadata": {},
   "outputs": [
    {
     "data": {
      "text/plain": [
       "[233000000.0,\n",
       " 79000000.0,\n",
       " 16000000.0,\n",
       " 21000000.0,\n",
       " 14000000.0,\n",
       " 18000000.0,\n",
       " 11000000.0,\n",
       " -1,\n",
       " 11000000.0,\n",
       " -1,\n",
       " 4000000.0,\n",
       " -1,\n",
       " 6000000.0,\n",
       " 2000000.0,\n",
       " 10000000.0,\n",
       " 5000000.0,\n",
       " 11000000.0,\n",
       " -1,\n",
       " 5000000.0,\n",
       " -1]"
      ]
     },
     "execution_count": 19,
     "metadata": {},
     "output_type": "execute_result"
    }
   ],
   "source": [
    "cash"
   ]
  },
  {
   "cell_type": "code",
   "execution_count": 13,
   "metadata": {
    "collapsed": true
   },
   "outputs": [],
   "source": [
    "cash2 = [x for x in cash if x != -1]"
   ]
  },
  {
   "cell_type": "code",
   "execution_count": 14,
   "metadata": {},
   "outputs": [
    {
     "data": {
      "text/plain": [
       "[233000000.0,\n",
       " 79000000.0,\n",
       " 16000000.0,\n",
       " 21000000.0,\n",
       " 14000000.0,\n",
       " 18000000.0,\n",
       " 11000000.0,\n",
       " 11000000.0,\n",
       " 4000000.0,\n",
       " 6000000.0,\n",
       " 2000000.0,\n",
       " 10000000.0,\n",
       " 5000000.0,\n",
       " 11000000.0,\n",
       " 5000000.0]"
      ]
     },
     "execution_count": 14,
     "metadata": {},
     "output_type": "execute_result"
    }
   ],
   "source": [
    "cash2"
   ]
  },
  {
   "cell_type": "code",
   "execution_count": null,
   "metadata": {
    "collapsed": true
   },
   "outputs": [],
   "source": []
  },
  {
   "cell_type": "code",
   "execution_count": 15,
   "metadata": {},
   "outputs": [
    {
     "data": {
      "text/plain": [
       "22299999.75"
      ]
     },
     "execution_count": 15,
     "metadata": {},
     "output_type": "execute_result"
    }
   ],
   "source": [
    "sum(cash) / len(cash)"
   ]
  },
  {
   "cell_type": "code",
   "execution_count": 17,
   "metadata": {
    "collapsed": true
   },
   "outputs": [],
   "source": [
    "revenue = list(map(parse, data['Revenue']))"
   ]
  },
  {
   "cell_type": "code",
   "execution_count": 18,
   "metadata": {},
   "outputs": [
    {
     "data": {
      "text/plain": [
       "[235000000.0,\n",
       " 75000000.0,\n",
       " 107000000.0,\n",
       " 18000000.0,\n",
       " 16000000.0,\n",
       " 15000000.0,\n",
       " 9000000.0,\n",
       " -1,\n",
       " 10000000.0,\n",
       " -1,\n",
       " 7000000.0,\n",
       " -1,\n",
       " 9000000.0,\n",
       " 7000000.0,\n",
       " 5000000.0,\n",
       " 28000000.0,\n",
       " 9000000.0,\n",
       " -1,\n",
       " 5000000.0,\n",
       " -1]"
      ]
     },
     "execution_count": 18,
     "metadata": {},
     "output_type": "execute_result"
    }
   ],
   "source": [
    "revenue"
   ]
  },
  {
   "cell_type": "code",
   "execution_count": 20,
   "metadata": {},
   "outputs": [
    {
     "data": {
      "text/plain": [
       "True"
      ]
     },
     "execution_count": 20,
     "metadata": {},
     "output_type": "execute_result"
    }
   ],
   "source": [
    "len(cash)==len(revenue)"
   ]
  },
  {
   "cell_type": "code",
   "execution_count": 23,
   "metadata": {},
   "outputs": [
    {
     "data": {
      "text/plain": [
       "[0.9914893617021276,\n",
       " 1.0533333333333332,\n",
       " 0.14953271028037382,\n",
       " 1.1666666666666667,\n",
       " 0.875,\n",
       " 1.2,\n",
       " 1.2222222222222223,\n",
       " -1,\n",
       " 1.1,\n",
       " -1,\n",
       " 0.5714285714285714,\n",
       " -1,\n",
       " 0.6666666666666666,\n",
       " 0.2857142857142857,\n",
       " 2.0,\n",
       " 0.17857142857142858,\n",
       " 1.2222222222222223,\n",
       " -1,\n",
       " 1.0,\n",
       " -1]"
      ]
     },
     "execution_count": 23,
     "metadata": {},
     "output_type": "execute_result"
    }
   ],
   "source": [
    "[ cash[i]/revenue[i] if cash[i]!=-1 and revenue[i]!=-1 else -1 for i in range(len(cash))]"
   ]
  },
  {
   "cell_type": "code",
   "execution_count": null,
   "metadata": {
    "collapsed": true
   },
   "outputs": [],
   "source": []
  }
 ],
 "metadata": {
  "kernelspec": {
   "display_name": "Python 3",
   "language": "python",
   "name": "python3"
  },
  "language_info": {
   "codemirror_mode": {
    "name": "ipython",
    "version": 3
   },
   "file_extension": ".py",
   "mimetype": "text/x-python",
   "name": "python",
   "nbconvert_exporter": "python",
   "pygments_lexer": "ipython3",
   "version": "3.6.3"
  }
 },
 "nbformat": 4,
 "nbformat_minor": 2
}
